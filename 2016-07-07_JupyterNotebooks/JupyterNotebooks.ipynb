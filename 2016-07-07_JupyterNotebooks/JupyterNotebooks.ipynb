{
 "cells": [
  {
   "cell_type": "markdown",
   "metadata": {},
   "source": [
    "# Overview of the [Jupyter](http://jupyter.org/) notebook system\n"
   ]
  },
  {
   "cell_type": "markdown",
   "metadata": {},
   "source": [
    "## An environment for making notebooks combining code (and its output), formatted text, plots, formulas..."
   ]
  },
  {
   "cell_type": "markdown",
   "metadata": {},
   "source": [
    "## Formatted text is done using [Markdown](http://jupyter-notebook.readthedocs.io/en/latest/examples/Notebook/Working%20With%20Markdown%20Cells.html)\n",
    "\n",
    "## Math formulas are done using [MathJax](https://www.mathjax.org/):\n",
    "\n",
    "$$\\sum_{n=0}^\\infty \\frac{1}{n}= \\infty$$"
   ]
  },
  {
   "cell_type": "code",
   "execution_count": 1,
   "metadata": {
    "collapsed": false
   },
   "outputs": [
    {
     "name": "stdout",
     "output_type": "stream",
     "text": [
      "This is some Python code\n"
     ]
    }
   ],
   "source": [
    "print \"This is some Python code\""
   ]
  },
  {
   "cell_type": "markdown",
   "metadata": {},
   "source": [
    "## There are \"kernels\" that allow Jupyter to interface with [different programming languages](https://github.com/ipython/ipython/wiki/IPython-kernels-for-other-languages)."
   ]
  },
  {
   "cell_type": "markdown",
   "metadata": {},
   "source": [
    "## [Installing Jupyter](http://jupyter.readthedocs.io/en/latest/install.html)\n",
    "\n",
    "- ### I recommend `pip install jupyter`\n",
    "- ### If you run into trouble, consider installing within a [virtual environment](http://docs.python-guide.org/en/latest/dev/virtualenvs/)."
   ]
  },
  {
   "cell_type": "markdown",
   "metadata": {},
   "source": [
    "## Using Jupyter with Python\n",
    "\n",
    "- ### The IPython kernel is the default one\n",
    "- ### Because Jupyter grew out of IPython, the Python kernel is by far the best developed. If you're searching for something Jupyter-related, consider doing a search with \"IPython\" instead\n",
    "- ### IPython kernel has useful [built-in magic commands or 'magics'](https://ipython.org/ipython-doc/3/interactive/magics.html).\n",
    "    - ### These start with `%` symbol\n",
    "    - ### `%%bash`: Run `bash` commands - very useful!\n",
    "    - ### If you want to include plots using the `matplotlib` library, do `%matplotlib inline`"
   ]
  },
  {
   "cell_type": "markdown",
   "metadata": {},
   "source": [
    "## Using Jupyter with R\n",
    "\n",
    "- ### Install [IRKernel](http://irkernel.github.io/installation/). In Mac OS X certain steps *must* be done in R console, not RStudio!\n",
    "- ### Plots are integrated into notebook\n",
    "- ### Dataframes show up nicely\n",
    "- ### IRKernel is not as polished as the IPython kernel."
   ]
  },
  {
   "cell_type": "markdown",
   "metadata": {},
   "source": [
    "## Useful tricks\n",
    "\n",
    "- ### Download a notebook as self-contained HTML - convenient for sharing results\n",
    "\n",
    "- ### Keyboard shortcuts are very useful\n",
    "\n",
    "- ### In Mac OS X, make a [double-clickable script](http://gureckislab.org/blog/?p=1310) to launch Jupyter\n",
    "\n",
    "- ### Make a button that [hides your Python code](http://stackoverflow.com/a/28073228/4312196) (for R code [see here](http://stackoverflow.com/a/35018739/4312196)).\n",
    "\n",
    "- ### Set up a [notebook server](http://jupyter-notebook.readthedocs.io/en/latest/public_server.html) for remote access\n",
    "\n",
    "- ### You can switch kernels while working on a notebook. Just keep in mind that you're quitting one kernel and startup up another one, so your variables will be lost."
   ]
  },
  {
   "cell_type": "markdown",
   "metadata": {},
   "source": [
    "## Alternatives (specific to R)\n",
    "\n",
    "- ### Working directly in RStudio\n",
    "    - Pros: Easier to start, no need to create a file, easier to install R packages\n",
    "    - Cons: No record of what you're doing\n",
    "\n",
    "- ### Rmarkdown/knitr\n",
    "    - Pros: Output looks very nice, excellent integration with RStudio\n",
    "    - Cons: Not as fluid as Jupyter"
   ]
  },
  {
   "cell_type": "code",
   "execution_count": null,
   "metadata": {
    "collapsed": true
   },
   "outputs": [],
   "source": []
  }
 ],
 "metadata": {
  "kernelspec": {
   "display_name": "Python 2",
   "language": "python",
   "name": "python2"
  },
  "language_info": {
   "codemirror_mode": {
    "name": "ipython",
    "version": 2
   },
   "file_extension": ".py",
   "mimetype": "text/x-python",
   "name": "python",
   "nbconvert_exporter": "python",
   "pygments_lexer": "ipython2",
   "version": "2.7.10"
  }
 },
 "nbformat": 4,
 "nbformat_minor": 0
}
