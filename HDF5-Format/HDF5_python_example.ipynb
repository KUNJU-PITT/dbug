{
 "metadata": {
  "name": "",
  "signature": "sha256:1325196a06a027c6cb32c8c5e8407d2c281a7116a26ac4fe8f2c6846f1901f22"
 },
 "nbformat": 3,
 "nbformat_minor": 0,
 "worksheets": [
  {
   "cells": [
    {
     "cell_type": "markdown",
     "metadata": {},
     "source": [
      "### Python modules for handling HDF5 files\n",
      "\n",
      "+ `h5py` (http://www.h5py.org/) \n",
      "\n",
      "**1. Installing the `h5py` package**"
     ]
    },
    {
     "cell_type": "markdown",
     "metadata": {},
     "source": [
      "If you are using anaconda as your package manager, you can use the following command to install `h5py`"
     ]
    },
    {
     "cell_type": "markdown",
     "metadata": {},
     "source": [
      "`conda install h5py`"
     ]
    },
    {
     "cell_type": "markdown",
     "metadata": {},
     "source": [
      "If you do not use anaconda, now is a good time to start using... (or take a look at the documentation for other installation options. )"
     ]
    },
    {
     "cell_type": "code",
     "collapsed": false,
     "input": [
      "import h5py\n",
      "import numpy as np"
     ],
     "language": "python",
     "metadata": {},
     "outputs": [],
     "prompt_number": 1
    },
    {
     "cell_type": "markdown",
     "metadata": {},
     "source": [
      "**2. Creating Files**"
     ]
    },
    {
     "cell_type": "markdown",
     "metadata": {},
     "source": [
      "The syntax for handling hdf5 files in python is slightly different, so it could take some time to get used to if you are used to R and vice versa. "
     ]
    },
    {
     "cell_type": "code",
     "collapsed": false,
     "input": [
      "h5file = h5py.File(\"Py_testfile.h5\", 'w') # The 'w' option is for write "
     ],
     "language": "python",
     "metadata": {},
     "outputs": [],
     "prompt_number": 2
    },
    {
     "cell_type": "markdown",
     "metadata": {},
     "source": [
      "**3.Creating Groups and Datasets**"
     ]
    },
    {
     "cell_type": "code",
     "collapsed": false,
     "input": [
      "h5file.create_group(\"group1\")\n",
      "test_data1 = h5file.create_dataset(\"group1/dataset1\", (4,10), dtype=\"float32\")"
     ],
     "language": "python",
     "metadata": {},
     "outputs": [],
     "prompt_number": 3
    },
    {
     "cell_type": "markdown",
     "metadata": {},
     "source": [
      "I actually prefer the syntax for python, since it is easier and more straight forward to save data in parts. "
     ]
    },
    {
     "cell_type": "code",
     "collapsed": false,
     "input": [
      "test_data1[:,0] = np.arange(4)"
     ],
     "language": "python",
     "metadata": {},
     "outputs": [],
     "prompt_number": 4
    },
    {
     "cell_type": "markdown",
     "metadata": {},
     "source": [
      "Note that even though test_data1 is not fully loaded onto memory unless you specify the index."
     ]
    },
    {
     "cell_type": "code",
     "collapsed": false,
     "input": [
      "test_data1\n"
     ],
     "language": "python",
     "metadata": {},
     "outputs": [
      {
       "metadata": {},
       "output_type": "pyout",
       "prompt_number": 5,
       "text": [
        "<HDF5 dataset \"dataset1\": shape (4, 10), type \"<f4\">"
       ]
      }
     ],
     "prompt_number": 5
    },
    {
     "cell_type": "markdown",
     "metadata": {},
     "source": [
      "However, you can still inspect the dataset without loading it into memory."
     ]
    },
    {
     "cell_type": "code",
     "collapsed": false,
     "input": [
      "test_data1.shape"
     ],
     "language": "python",
     "metadata": {},
     "outputs": [
      {
       "metadata": {},
       "output_type": "pyout",
       "prompt_number": 6,
       "text": [
        "(4, 10)"
       ]
      }
     ],
     "prompt_number": 6
    },
    {
     "cell_type": "code",
     "collapsed": false,
     "input": [
      "test_data1[:,:]"
     ],
     "language": "python",
     "metadata": {},
     "outputs": [
      {
       "metadata": {},
       "output_type": "pyout",
       "prompt_number": 7,
       "text": [
        "array([[ 0.,  0.,  0.,  0.,  0.,  0.,  0.,  0.,  0.,  0.],\n",
        "       [ 1.,  0.,  0.,  0.,  0.,  0.,  0.,  0.,  0.,  0.],\n",
        "       [ 2.,  0.,  0.,  0.,  0.,  0.,  0.,  0.,  0.,  0.],\n",
        "       [ 3.,  0.,  0.,  0.,  0.,  0.,  0.,  0.,  0.,  0.]], dtype=float32)"
       ]
      }
     ],
     "prompt_number": 7
    },
    {
     "cell_type": "markdown",
     "metadata": {},
     "source": [
      "`h5py` is also quite convenient in setting chunks since it has an automatic option, which will select the ideal chunk size for the user."
     ]
    },
    {
     "cell_type": "code",
     "collapsed": false,
     "input": [
      "test_data2 = h5file.create_dataset(\"group1/dataset2\", (25,100), dtype=\"float32\", chunks = True)"
     ],
     "language": "python",
     "metadata": {},
     "outputs": [],
     "prompt_number": 8
    },
    {
     "cell_type": "markdown",
     "metadata": {},
     "source": [
      "You can check the chunk size very easily. (This becomes handy when you want to optimize the read-in speed.)"
     ]
    },
    {
     "cell_type": "code",
     "collapsed": false,
     "input": [
      "test_data2.chunks"
     ],
     "language": "python",
     "metadata": {},
     "outputs": [
      {
       "metadata": {},
       "output_type": "pyout",
       "prompt_number": 9,
       "text": [
        "(25, 100)"
       ]
      }
     ],
     "prompt_number": 9
    },
    {
     "cell_type": "markdown",
     "metadata": {},
     "source": [
      "For some reason, `h5py` does not have an equivalent function to `h5ls()` which lists the groups and contents of the file so you would have to construct your own function like this. "
     ]
    },
    {
     "cell_type": "code",
     "collapsed": false,
     "input": [
      "def print_attrs(name, obj):\n",
      "    print name\n",
      "    for key, val in obj.attrs.iteritems():\n",
      "        print \"    %s: %s\" % (key, val)\n",
      "\n",
      "\n",
      "h5file.visititems(print_attrs)"
     ],
     "language": "python",
     "metadata": {},
     "outputs": [
      {
       "output_type": "stream",
       "stream": "stdout",
       "text": [
        "group1\n",
        "group1/dataset1\n",
        "group1/dataset2\n"
       ]
      }
     ],
     "prompt_number": 10
    },
    {
     "cell_type": "markdown",
     "metadata": {},
     "source": [
      "Same as in R don't forget to close your file when you are done. "
     ]
    },
    {
     "cell_type": "code",
     "collapsed": false,
     "input": [
      "h5py.File.close(h5file)"
     ],
     "language": "python",
     "metadata": {},
     "outputs": [],
     "prompt_number": 11
    },
    {
     "cell_type": "markdown",
     "metadata": {},
     "source": [
      "**4.Loading data from a file**\n",
      "\n",
      "One important thing to keep in mind is that R and Python read in the data in different ways, which transposes matrices (or arrays). Let's take a look at the test file that we have created in R."
     ]
    },
    {
     "cell_type": "code",
     "collapsed": false,
     "input": [
      "rh5 = h5py.File(\"r_testfile.h5\", 'r') # the 'r' option is for read\n",
      "\n",
      "r_matrix = rh5[\"genotypes/values\"]"
     ],
     "language": "python",
     "metadata": {},
     "outputs": [],
     "prompt_number": 12
    },
    {
     "cell_type": "markdown",
     "metadata": {},
     "source": [
      "This was a 4 x 10 matrix when we defined it in R let's see how it looks in python. "
     ]
    },
    {
     "cell_type": "code",
     "collapsed": false,
     "input": [
      "r_matrix.shape"
     ],
     "language": "python",
     "metadata": {},
     "outputs": [
      {
       "metadata": {},
       "output_type": "pyout",
       "prompt_number": 13,
       "text": [
        "(10, 4)"
       ]
      }
     ],
     "prompt_number": 13
    },
    {
     "cell_type": "code",
     "collapsed": false,
     "input": [
      "r_matrix[0,:]"
     ],
     "language": "python",
     "metadata": {},
     "outputs": [
      {
       "metadata": {},
       "output_type": "pyout",
       "prompt_number": 14,
       "text": [
        "array([2, 0, 0, 2], dtype=int32)"
       ]
      }
     ],
     "prompt_number": 14
    },
    {
     "cell_type": "code",
     "collapsed": false,
     "input": [
      "h5py.File.close(rh5)"
     ],
     "language": "python",
     "metadata": {},
     "outputs": [],
     "prompt_number": 15
    }
   ],
   "metadata": {}
  }
 ]
}